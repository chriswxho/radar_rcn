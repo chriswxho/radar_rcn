{
 "cells": [
  {
   "cell_type": "code",
   "execution_count": 12,
   "id": "97a7de3e",
   "metadata": {},
   "outputs": [],
   "source": [
    "import os\n",
    "import numpy as np\n",
    "import h5py"
   ]
  },
  {
   "cell_type": "code",
   "execution_count": 24,
   "id": "00cc8048",
   "metadata": {},
   "outputs": [
    {
     "name": "stdout",
     "output_type": "stream",
     "text": [
      "[[ 1.00000e+00 -1.27500e+01 -1.28750e+01 ... -3.88125e+01 -3.80625e+01\n",
      "  -2.91875e+01]\n",
      " [ 2.57000e+02 -2.43750e+01 -2.31875e+01 ... -3.05000e+01 -3.65625e+01\n",
      "  -3.54375e+01]\n",
      " [ 5.13000e+02 -3.81250e+01 -4.33125e+01 ... -4.54375e+01 -4.49375e+01\n",
      "  -4.02500e+01]\n",
      " ...\n",
      " [-2.04790e+04 -3.10625e+01 -3.45000e+01 ... -3.23750e+01 -3.38125e+01\n",
      "  -3.11250e+01]\n",
      " [-2.02230e+04 -3.03750e+01 -3.16875e+01 ... -3.08125e+01 -3.21875e+01\n",
      "  -2.93125e+01]\n",
      " [-1.99670e+04 -2.88750e+01 -3.05625e+01 ... -3.20000e+01 -3.05625e+01\n",
      "  -2.72500e+01]]\n"
     ]
    }
   ],
   "source": [
    "for split in ['train']:\n",
    "    with h5py.File(os.path.join(split, os.listdir(split)), 'r') as f:\n",
    "        f.get('radar')[()]"
   ]
  },
  {
   "cell_type": "code",
   "execution_count": null,
   "id": "ced6b7d1",
   "metadata": {},
   "outputs": [],
   "source": []
  }
 ],
 "metadata": {
  "kernelspec": {
   "display_name": "Python 3",
   "language": "python",
   "name": "python3"
  },
  "language_info": {
   "codemirror_mode": {
    "name": "ipython",
    "version": 3
   },
   "file_extension": ".py",
   "mimetype": "text/x-python",
   "name": "python",
   "nbconvert_exporter": "python",
   "pygments_lexer": "ipython3",
   "version": "3.8.5"
  }
 },
 "nbformat": 4,
 "nbformat_minor": 5
}
