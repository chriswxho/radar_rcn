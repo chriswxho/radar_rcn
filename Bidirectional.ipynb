{
 "cells": [
  {
   "cell_type": "code",
   "execution_count": 1,
   "id": "a161a5e2",
   "metadata": {},
   "outputs": [],
   "source": [
    "import pyrcn"
   ]
  },
  {
   "cell_type": "code",
   "execution_count": 2,
   "id": "f307dd76",
   "metadata": {},
   "outputs": [],
   "source": [
    "import os"
   ]
  },
  {
   "cell_type": "code",
   "execution_count": 3,
   "id": "f0451637",
   "metadata": {},
   "outputs": [
    {
     "data": {
      "text/plain": [
       "['.DS_Store',\n",
       " '.fseventsd',\n",
       " '.Spotlight-V100',\n",
       " '.TemporaryItems',\n",
       " '.Trashes',\n",
       " 'IDRad',\n",
       " 'Install Western Digital Software for Mac.dmg',\n",
       " 'Install Western Digital Software for Windows.exe',\n",
       " 'Vimeo']"
      ]
     },
     "execution_count": 3,
     "metadata": {},
     "output_type": "execute_result"
    }
   ],
   "source": [
    "os.listdir('/Volumes/PassportDrive')"
   ]
  },
  {
   "cell_type": "code",
   "execution_count": 3,
   "id": "fb00dd54",
   "metadata": {},
   "outputs": [],
   "source": [
    "# DATA_DIR = '/Volumes/Untitled/IDRad/idrad'\n",
    "DATA_DIR = '/Users/davidzhu/Desktop/IDRad/idrad'\n",
    "DEFAULT_FILE = 'train/target5_001.hdf5'"
   ]
  },
  {
   "cell_type": "markdown",
   "id": "e011a7c0",
   "metadata": {},
   "source": [
    "# Preprocessing"
   ]
  },
  {
   "cell_type": "code",
   "execution_count": 4,
   "id": "a036b966",
   "metadata": {},
   "outputs": [],
   "source": [
    "import h5py\n",
    "import numpy as np "
   ]
  },
  {
   "cell_type": "code",
   "execution_count": 5,
   "id": "aefcc3f7",
   "metadata": {},
   "outputs": [],
   "source": [
    "def range_doppler(data, chirps=256,\n",
    "                  samples=256,\n",
    "                  fft_rangesamples=2 ** 10,\n",
    "                  fft_dopplersamples=2 ** 8,\n",
    "                  fs=2.0e6,\n",
    "                  kf=1171875.0e7,\n",
    "                  min_range=0.5,\n",
    "                  max_range=10):\n",
    "    \"\"\"\n",
    "    Computes a range-doppler map for a given number of chirps and samples per chirp.\n",
    "    :param data: FMCW radar data frame consisting of <chirps>x<samples>\n",
    "    :param chirps: Number of chirps (Np)\n",
    "    :param samples: Number of samples (N)\n",
    "    :param fft_rangesamples: Number of samples for the range fft.\n",
    "    :param fft_dopplersamples: Number of samples for the doppler fft.\n",
    "    :param fs: Constant depending on the radar recording parameters.\n",
    "    :param kf: Constant depending on the radar recording parameters.\n",
    "    :param min_range: Minimum value to take into account for the range axis in the range-doppler map.\n",
    "    :param max_range: Maximum value to take into account for the range axis in the range-doppler map.\n",
    "    :return: Returns a 2D dimensional range-doppler map representing the reflected power over all range-doppler bins.\n",
    "    \"\"\"\n",
    "\n",
    "    data = data.reshape(chirps, samples).T\n",
    "    # Ignore chirp sequence number\n",
    "    data = data[1:]\n",
    "    Ny, Nx = data.shape  # rows (N), columns (Np)\n",
    "\n",
    "    window = np.hanning(Ny)\n",
    "    scaled = np.sum(window)\n",
    "    window2d = np.tile(window, (Nx, 1)).T\n",
    "    data = data * window2d\n",
    "\n",
    "    # Calculate Range FFT\n",
    "    x = np.zeros((fft_rangesamples, Nx))\n",
    "    start_index = int((fft_rangesamples - Ny) / 2)\n",
    "    x[start_index:start_index + Ny, :] = data\n",
    "    X = np.fft.fft(x, fft_rangesamples, 0) / scaled * (2.0 / 2048)\n",
    "    # Extract positive range bins\n",
    "    X = X[0:fft_rangesamples // 2, :]\n",
    "    # Extract range\n",
    "    _freq = np.arange(fft_rangesamples // 2) / float(fft_rangesamples) * fs\n",
    "    _range = _freq * 3e8 / (2 * kf)\n",
    "    min_index = np.argmin(np.abs(_range - min_range))\n",
    "    max_index = np.argmin(np.abs(_range - max_range))\n",
    "\n",
    "    X = X[min_index: max_index, :]\n",
    "\n",
    "    # Calculate Doppler FFT\n",
    "    Ny, Nx = X.shape\n",
    "    window = np.hanning(Nx)\n",
    "    scaled = np.sum(window)\n",
    "    window2d = np.tile(window, (Ny, 1))\n",
    "    X = X * window2d\n",
    "\n",
    "    rd = np.zeros((Ny, fft_dopplersamples), dtype='complex_')\n",
    "    start_index = int((fft_dopplersamples - Nx) / 2)\n",
    "    rd[:, start_index:start_index + Nx] = X\n",
    "\n",
    "    range_doppler = np.fft.fft(rd, fft_dopplersamples, 1) / scaled\n",
    "    range_doppler = np.fft.fftshift(range_doppler, axes=1)\n",
    "\n",
    "    return np.abs(range_doppler)\n",
    "\n",
    "def preprocess_file(fname): \n",
    "    with h5py.File(f'{DATA_DIR}/{fname}', 'r+') as file:\n",
    "        nframes = file['radar'].shape[0]\n",
    "\n",
    "        # Create datasets\n",
    "        if not 'microdoppler' in file:\n",
    "            file.create_dataset(\"microdoppler\", (nframes, 256), dtype='float32', chunks=(1, 256))\n",
    "        if not 'microdoppler_thresholded' in file:\n",
    "            file.create_dataset(\"microdoppler_thresholded\", (nframes, 256), dtype='float32', chunks=(1, 256))\n",
    "        if not 'range_doppler' in file:\n",
    "            file.create_dataset(\"range_doppler\", (nframes, 380, 256), dtype='float32', chunks=True)\n",
    "\n",
    "        \n",
    "        x = file['range_doppler'][:10,:,:]\n",
    "        \n",
    "        #has not been preprocessed\n",
    "        if np.all(x==0): \n",
    "            print('preprocessing')\n",
    "        \n",
    "            # Run over each radar frame\n",
    "            for i in range(nframes): # only take first 1000 \n",
    "                rd = range_doppler(file['radar'][i]) \n",
    "                rd = 20 * np.log10(rd)\n",
    "\n",
    "                file['range_doppler'][i] = rd\n",
    "                file['microdoppler'][i] = rd.sum(axis=0)\n",
    "\n",
    "                rd -= np.amax(rd)\n",
    "                rd[rd < -45] = -45\n",
    "                file['microdoppler_thresholded'][i] = rd.sum(axis=0)\n",
    "\n",
    "                if not i%100: \n",
    "                    print(\"Finished frame %d of %d.\" % (i + 1, nframes))\n",
    "                    \n",
    "def get_range_doppler(fname): \n",
    "    '''returns the range doppler'''\n",
    "    preprocess_file(fname) \n",
    "    range_doppler = 0 \n",
    "    \n",
    "    with h5py.File(f'{DATA_DIR}/{fname}', 'r+') as file:\n",
    "        # d['microdoppler'] = file['microdoppler'][:,:]\n",
    "        # d['microdoppler_thresholded'] = file['microdoppler_thresholded'][:,:]\n",
    "        range_doppler = file['range_doppler'][:,:,:].sum(axis=1)\n",
    "    \n",
    "    return range_doppler"
   ]
  },
  {
   "cell_type": "code",
   "execution_count": 166,
   "id": "9b09f544",
   "metadata": {},
   "outputs": [],
   "source": [
    "from copy import deepcopy as copy "
   ]
  },
  {
   "cell_type": "code",
   "execution_count": 168,
   "id": "98ecd54f",
   "metadata": {},
   "outputs": [],
   "source": [
    "hot_dict = {} \n",
    "for i in range(1,6): \n",
    "    x = np.zeros(5) \n",
    "    x[i-1] = 1 \n",
    "    hot_dict[i] = x"
   ]
  },
  {
   "cell_type": "code",
   "execution_count": 174,
   "id": "ef8c7fc0",
   "metadata": {
    "scrolled": true
   },
   "outputs": [],
   "source": [
    "dataset_files = os.listdir(f'{DATA_DIR}/train')\n",
    "dataset = [] \n",
    "labels = []\n",
    "labels_hot = [] \n",
    "labels_repeat = [] \n",
    "labels_hot_repeat = [] \n",
    "\n",
    "for fname in dataset_files: \n",
    "    if fname[:2] == '._':\n",
    "        print(fname)\n",
    "        continue \n",
    "        \n",
    "    labels.append(int(fname[6]))\n",
    "    labels_hot.append(copy(hot_dict[labels[-1]]))\n",
    "    \n",
    "    dataset.append(get_range_doppler(f'train/{fname}'))\n",
    "    \n",
    "    labels_repeat.append(np.repeat(labels[-1], dataset[-1].shape[0] ))\n",
    "    labels_hot_repeat.append(np.repeat(labels_hot[-1][np.newaxis, :], dataset[-1].shape[0], axis=0 ))\n",
    "\n",
    "# dataset = np.array(dataset) \n",
    "labels = np.array(labels)\n",
    "labels_hot = np.array(labels_hot)\n",
    "\n",
    "dataset = np.array(dataset, dtype = object)\n",
    "\n",
    "labels_repeat = np.array(labels_repeat, dtype = object)\n",
    "labels_hot_repeat = np.array(labels_hot_repeat, dtype = object)"
   ]
  },
  {
   "cell_type": "code",
   "execution_count": 69,
   "id": "b44ee442",
   "metadata": {
    "scrolled": true
   },
   "outputs": [],
   "source": [
    "dataset = np.array(dataset, dtype = object)"
   ]
  },
  {
   "cell_type": "code",
   "execution_count": null,
   "id": "45a0a3c8",
   "metadata": {},
   "outputs": [],
   "source": []
  },
  {
   "cell_type": "code",
   "execution_count": 175,
   "id": "91b44737",
   "metadata": {
    "scrolled": true
   },
   "outputs": [
    {
     "name": "stdout",
     "output_type": "stream",
     "text": [
      "(130,)\n",
      "(130,)\n",
      "(130,)\n",
      "(179, 5)\n"
     ]
    }
   ],
   "source": [
    "print(dataset.shape)\n",
    "print(labels.shape)\n",
    "print(labels_repeat.shape)\n",
    "print(labels_hot_repeat[0].shape)"
   ]
  },
  {
   "cell_type": "code",
   "execution_count": 10,
   "id": "504f2feb",
   "metadata": {},
   "outputs": [],
   "source": [
    "from os.path import isfile"
   ]
  },
  {
   "cell_type": "markdown",
   "id": "f10af508",
   "metadata": {},
   "source": [
    "# Layer Making"
   ]
  },
  {
   "cell_type": "code",
   "execution_count": 11,
   "id": "10043488",
   "metadata": {},
   "outputs": [],
   "source": [
    "from pyrcn.base.blocks import InputToNode, BatchIntrinsicPlasticity, NodeToNode, HebbianNodeToNode"
   ]
  },
  {
   "cell_type": "code",
   "execution_count": 12,
   "id": "e9a79e3f",
   "metadata": {},
   "outputs": [],
   "source": [
    "from pyrcn.echo_state_network import ESNRegressor, ESNClassifier"
   ]
  },
  {
   "cell_type": "code",
   "execution_count": 13,
   "id": "0467c1bc",
   "metadata": {},
   "outputs": [],
   "source": [
    "from pyrcn.base.blocks import InputToNode, PredefinedWeightsInputToNode, NodeToNode\n",
    "from pyrcn.metrics import accuracy_score, classification_report, confusion_matrix, mean_squared_error\n",
    "from pyrcn.model_selection import SequentialSearchCV\n",
    "\n",
    "from sklearn.base import clone\n",
    "from sklearn.metrics import make_scorer, ConfusionMatrixDisplay\n",
    "from sklearn.model_selection import RandomizedSearchCV, GridSearchCV, ParameterGrid\n",
    "from sklearn.cluster import MiniBatchKMeans\n",
    "from sklearn.utils.fixes import loguniform\n",
    "from scipy.stats import uniform"
   ]
  },
  {
   "cell_type": "code",
   "execution_count": 20,
   "id": "e7258097",
   "metadata": {},
   "outputs": [],
   "source": [
    "default_rd = get_range_doppler(DEFAULT_FILE)"
   ]
  },
  {
   "cell_type": "code",
   "execution_count": 206,
   "id": "582fd981",
   "metadata": {},
   "outputs": [],
   "source": [
    "layer1_size = 500\n",
    "layer2_size = 1000"
   ]
  },
  {
   "cell_type": "code",
   "execution_count": 207,
   "id": "67c80351",
   "metadata": {},
   "outputs": [],
   "source": [
    "# Bilayered; i2n -> n2o, second layer has fewer (125) nodes\n",
    "\n",
    "i2n = InputToNode(hidden_layer_size=layer1_size, input_activation=\"tanh\")\n",
    "\n",
    "# layer1 = i2n.fit_transform(dataset)"
   ]
  },
  {
   "cell_type": "code",
   "execution_count": 208,
   "id": "a6171882",
   "metadata": {},
   "outputs": [],
   "source": [
    "initial_params = {'hidden_layer_size': layer2_size, #1000 in 5C\n",
    "                  'input_activation': 'tanh', #\n",
    "                  'k_in' : 1,\n",
    "                  'bias_scaling': 0.0, # usually 0 \n",
    "                  'spectral_radius' : 0.0, # \n",
    "                  'reservoir_activation': 'tanh', # 2\n",
    "                  'leakage': 0.05, #equation 6, 17 frames should be 1 step \n",
    "                  'bidirectional': True, #bidirectional \n",
    "                  'k_rec': layer2_size / 10, # optimal is 200 for 1000 layer size \n",
    "                  'alpha': 0.1, # figure 6, tuned with k_in\n",
    "                  'random_state': 1, # \n",
    "                  'requires_sequence': True}"
   ]
  },
  {
   "cell_type": "code",
   "execution_count": 209,
   "id": "60a03477",
   "metadata": {},
   "outputs": [],
   "source": [
    "n2o = ESNClassifier(**initial_params)"
   ]
  },
  {
   "cell_type": "code",
   "execution_count": 210,
   "id": "69d1ed70",
   "metadata": {},
   "outputs": [
    {
     "data": {
      "text/plain": [
       "ESNClassifier(input_to_node=InputToNode(bias_scaling=0.0,\n",
       "                                        hidden_layer_size=1000, k_in=1,\n",
       "                                        random_state=1, sparsity=0.00390625),\n",
       "              node_to_node=NodeToNode(bidirectional=True,\n",
       "                                      hidden_layer_size=1000, k_rec=100.0,\n",
       "                                      leakage=0.05, random_state=1,\n",
       "                                      sparsity=0.1, spectral_radius=0.0),\n",
       "              regressor=IncrementalRegression(alpha=0.1),\n",
       "              requires_sequence=True)"
      ]
     },
     "execution_count": 210,
     "metadata": {},
     "output_type": "execute_result"
    }
   ],
   "source": [
    "n2o.fit(dataset, labels_repeat)"
   ]
  },
  {
   "cell_type": "code",
   "execution_count": 211,
   "id": "97bdb721",
   "metadata": {},
   "outputs": [],
   "source": [
    "predictions = n2o.predict(dataset)"
   ]
  },
  {
   "cell_type": "code",
   "execution_count": 212,
   "id": "d4dcc66d",
   "metadata": {},
   "outputs": [],
   "source": [
    "correct = []\n",
    "for i, prediction in enumerate(predictions):  \n",
    "    \n",
    "    correct.append((prediction == labels[i]).mean())\n",
    "\n",
    "correct = np.array(correct)"
   ]
  },
  {
   "cell_type": "code",
   "execution_count": 213,
   "id": "3dc80420",
   "metadata": {},
   "outputs": [
    {
     "data": {
      "text/plain": [
       "0.3994160653259255"
      ]
     },
     "execution_count": 213,
     "metadata": {},
     "output_type": "execute_result"
    }
   ],
   "source": [
    "correct.mean()"
   ]
  },
  {
   "cell_type": "code",
   "execution_count": 214,
   "id": "36b4941a",
   "metadata": {},
   "outputs": [],
   "source": [
    "predictions_p = n2o.predict_proba(dataset)"
   ]
  },
  {
   "cell_type": "code",
   "execution_count": 165,
   "id": "d321da2b",
   "metadata": {
    "scrolled": false
   },
   "outputs": [
    {
     "data": {
      "text/plain": [
       "((130,), (179, 5))"
      ]
     },
     "execution_count": 165,
     "metadata": {},
     "output_type": "execute_result"
    }
   ],
   "source": [
    "predictions_p.shape, predictions_p[0].shape"
   ]
  },
  {
   "cell_type": "code",
   "execution_count": 215,
   "id": "831b5ef6",
   "metadata": {},
   "outputs": [],
   "source": [
    "x = [0,0,0,0,0]\n",
    "\n",
    "for p in predictions: \n",
    "    for i in range(5): \n",
    "        x[i] += (p == i+1).sum()"
   ]
  },
  {
   "cell_type": "code",
   "execution_count": 216,
   "id": "6db22ba9",
   "metadata": {},
   "outputs": [
    {
     "data": {
      "text/plain": [
       "[12671, 9564, 1626, 39976, 31813]"
      ]
     },
     "execution_count": 216,
     "metadata": {},
     "output_type": "execute_result"
    }
   ],
   "source": [
    "x"
   ]
  },
  {
   "cell_type": "code",
   "execution_count": null,
   "id": "a371d545",
   "metadata": {},
   "outputs": [],
   "source": []
  },
  {
   "cell_type": "code",
   "execution_count": null,
   "id": "d0336b5d",
   "metadata": {},
   "outputs": [],
   "source": []
  },
  {
   "cell_type": "code",
   "execution_count": null,
   "id": "f4f73796",
   "metadata": {},
   "outputs": [],
   "source": []
  },
  {
   "cell_type": "code",
   "execution_count": null,
   "id": "4e6eccdd",
   "metadata": {},
   "outputs": [],
   "source": []
  },
  {
   "cell_type": "code",
   "execution_count": null,
   "id": "48745a91",
   "metadata": {},
   "outputs": [],
   "source": []
  },
  {
   "cell_type": "code",
   "execution_count": null,
   "id": "5a751971",
   "metadata": {},
   "outputs": [],
   "source": [
    "kwargs_step1 = {'n_iter': 200, 'random_state': 42, 'verbose': 1, 'n_jobs': -1, 'scoring': make_scorer(accuracy_score)}\n",
    "kwargs_step2 = {'n_iter': 50, 'random_state': 42, 'verbose': 1, 'n_jobs': -1, 'scoring': make_scorer(accuracy_score)}\n",
    "kwargs_step3 = {'verbose': 1, 'n_jobs': -1, 'scoring': make_scorer(accuracy_score)}\n",
    "kwargs_step4 = {'n_iter': 50, 'random_state': 42, 'verbose': 1, 'n_jobs': -1, 'scoring': make_scorer(accuracy_score)}\n"
   ]
  },
  {
   "cell_type": "code",
   "execution_count": 203,
   "id": "ab05e3a9",
   "metadata": {},
   "outputs": [],
   "source": [
    "from pyrcn.base.blocks import InputToNode, PredefinedWeightsInputToNode, NodeToNode\n",
    "from pyrcn.metrics import accuracy_score, classification_report, confusion_matrix, mean_squared_error, f1_score\n",
    "from pyrcn.model_selection import SequentialSearchCV\n",
    "from pyrcn.echo_state_network import ESNClassifier\n",
    "from pyrcn.model_selection import SequentialSearchCV\n",
    "\n",
    "from sklearn.base import clone\n",
    "from sklearn.metrics import make_scorer, ConfusionMatrixDisplay\n",
    "from sklearn.model_selection import RandomizedSearchCV, GridSearchCV, ParameterGrid, TimeSeriesSplit\n",
    "from sklearn.cluster import MiniBatchKMeans\n",
    "from sklearn.utils.fixes import loguniform\n",
    "from scipy.stats import uniform\n",
    "from joblib import dump, load"
   ]
  },
  {
   "cell_type": "code",
   "execution_count": null,
   "id": "e3d5d613",
   "metadata": {
    "scrolled": true
   },
   "outputs": [
    {
     "name": "stdout",
     "output_type": "stream",
     "text": [
      "Fitting 5 folds for each of 50 candidates, totalling 250 fits\n"
     ]
    },
    {
     "name": "stderr",
     "output_type": "stream",
     "text": [
      "/Users/davidzhu/miniforge3/lib/python3.8/site-packages/joblib/externals/loky/process_executor.py:702: UserWarning: A worker stopped while some jobs were given to the executor. This can be caused by a too short worker timeout or by a memory leak.\n",
      "  warnings.warn(\n",
      "/Users/davidzhu/miniforge3/lib/python3.8/site-packages/sklearn/model_selection/_validation.py:372: FitFailedWarning: \n",
      "10 fits failed out of a total of 250.\n",
      "The score on these train-test partitions for these parameters will be set to nan.\n",
      "If these failures are not expected, you can try to debug them by setting error_score='raise'.\n",
      "\n",
      "Below are more details about the failures:\n",
      "--------------------------------------------------------------------------------\n",
      "5 fits failed with the following error:\n",
      "Traceback (most recent call last):\n",
      "  File \"/Users/davidzhu/miniforge3/lib/python3.8/site-packages/pyrcn/base/_base.py\", line 152, in _normal_random_recurrent_weights\n",
      "    we = eigens(recurrent_weights_init,\n",
      "  File \"/Users/davidzhu/miniforge3/lib/python3.8/site-packages/scipy/sparse/linalg/eigen/arpack/arpack.py\", line 1346, in eigs\n",
      "    params.iterate()\n",
      "  File \"/Users/davidzhu/miniforge3/lib/python3.8/site-packages/scipy/sparse/linalg/eigen/arpack/arpack.py\", line 756, in iterate\n",
      "    self._raise_no_convergence()\n",
      "  File \"/Users/davidzhu/miniforge3/lib/python3.8/site-packages/scipy/sparse/linalg/eigen/arpack/arpack.py\", line 376, in _raise_no_convergence\n",
      "    raise ArpackNoConvergence(msg % (num_iter, k_ok, self.k), ev, vec)\n",
      "scipy.sparse.linalg.eigen.arpack.arpack.ArpackNoConvergence: ARPACK error -1: No convergence (10001 iterations, 9/10 eigenvectors converged)\n",
      "\n",
      "During handling of the above exception, another exception occurred:\n",
      "\n",
      "Traceback (most recent call last):\n",
      "  File \"/Users/davidzhu/miniforge3/lib/python3.8/site-packages/sklearn/model_selection/_validation.py\", line 680, in _fit_and_score\n",
      "    estimator.fit(X_train, y_train, **fit_params)\n",
      "  File \"/Users/davidzhu/miniforge3/lib/python3.8/site-packages/pyrcn/echo_state_network/_esn.py\", line 743, in fit\n",
      "    self._node_to_node.fit(self._input_to_node.transform(X[0]))\n",
      "  File \"/Users/davidzhu/miniforge3/lib/python3.8/site-packages/pyrcn/base/blocks/_node_to_node.py\", line 112, in fit\n",
      "    self._recurrent_weights = _normal_random_recurrent_weights(\n",
      "  File \"/Users/davidzhu/miniforge3/lib/python3.8/site-packages/pyrcn/base/_base.py\", line 159, in _normal_random_recurrent_weights\n",
      "    we = ArpackNoConvergence.eigenvalues\n",
      "AttributeError: type object 'ArpackNoConvergence' has no attribute 'eigenvalues'\n",
      "\n",
      "--------------------------------------------------------------------------------\n",
      "5 fits failed with the following error:\n",
      "Traceback (most recent call last):\n",
      "  File \"/Users/davidzhu/miniforge3/lib/python3.8/site-packages/pyrcn/base/_base.py\", line 152, in _normal_random_recurrent_weights\n",
      "    we = eigens(recurrent_weights_init,\n",
      "  File \"/Users/davidzhu/miniforge3/lib/python3.8/site-packages/scipy/sparse/linalg/eigen/arpack/arpack.py\", line 1346, in eigs\n",
      "    params.iterate()\n",
      "  File \"/Users/davidzhu/miniforge3/lib/python3.8/site-packages/scipy/sparse/linalg/eigen/arpack/arpack.py\", line 756, in iterate\n",
      "    self._raise_no_convergence()\n",
      "  File \"/Users/davidzhu/miniforge3/lib/python3.8/site-packages/scipy/sparse/linalg/eigen/arpack/arpack.py\", line 376, in _raise_no_convergence\n",
      "    raise ArpackNoConvergence(msg % (num_iter, k_ok, self.k), ev, vec)\n",
      "scipy.sparse.linalg.eigen.arpack.arpack.ArpackNoConvergence: ARPACK error -1: No convergence (10001 iterations, 8/10 eigenvectors converged)\n",
      "\n",
      "During handling of the above exception, another exception occurred:\n",
      "\n",
      "Traceback (most recent call last):\n",
      "  File \"/Users/davidzhu/miniforge3/lib/python3.8/site-packages/sklearn/model_selection/_validation.py\", line 680, in _fit_and_score\n",
      "    estimator.fit(X_train, y_train, **fit_params)\n",
      "  File \"/Users/davidzhu/miniforge3/lib/python3.8/site-packages/pyrcn/echo_state_network/_esn.py\", line 743, in fit\n",
      "    self._node_to_node.fit(self._input_to_node.transform(X[0]))\n",
      "  File \"/Users/davidzhu/miniforge3/lib/python3.8/site-packages/pyrcn/base/blocks/_node_to_node.py\", line 112, in fit\n",
      "    self._recurrent_weights = _normal_random_recurrent_weights(\n",
      "  File \"/Users/davidzhu/miniforge3/lib/python3.8/site-packages/pyrcn/base/_base.py\", line 159, in _normal_random_recurrent_weights\n",
      "    we = ArpackNoConvergence.eigenvalues\n",
      "AttributeError: type object 'ArpackNoConvergence' has no attribute 'eigenvalues'\n",
      "\n",
      "  warnings.warn(some_fits_failed_message, FitFailedWarning)\n",
      "/Users/davidzhu/miniforge3/lib/python3.8/site-packages/sklearn/model_selection/_search.py:969: UserWarning: One or more of the test scores are non-finite: [0.21730285 0.21876526 0.21580883 0.2192469  0.21728687 0.21731454\n",
      " 0.21731572 0.21731025 0.217274   0.21846678 0.21731572 0.21731454\n",
      " 0.21732001 0.21848583 0.21732741 0.21908728 0.21729856 0.21876097\n",
      " 0.21732741 0.21730285 0.21731883 0.21732001 0.21905006 0.21854096\n",
      " 0.21841999 0.21728258 0.21850574 0.21548916 0.21832057 0.21731025\n",
      " 0.21901407        nan 0.21899685 0.21730285        nan 0.21841585\n",
      " 0.21731572 0.21817037 0.21900667 0.21731454 0.21730596 0.21874928\n",
      " 0.21732741 0.21734457 0.21731025 0.21731572 0.21728569 0.21841302\n",
      " 0.21729856 0.21728258]\n",
      "  warnings.warn(\n"
     ]
    }
   ],
   "source": [
    "initially_fixed_params = {'hidden_layer_size': layer2_size, #1000 in 5C\n",
    "                  'input_activation': 'tanh', #\n",
    "                  'k_in' : 1,\n",
    "                  # 'bias_scaling': 0.0, # usually 0 \n",
    "                  # 'spectral_radius' : 0.0, # \n",
    "                  'reservoir_activation': 'tanh', # 2\n",
    "                  # 'leakage': 0.05, #equation 6, 17 frames should be 1 step \n",
    "                  'bidirectional': True, #bidirectional \n",
    "                  # 'k_rec': layer2_size / 10, # optimal is 200 for 1000 layer size \n",
    "                  # 'alpha': 0.1, # figure 6, tuned with k_in\n",
    "                  'random_state': 1, # \n",
    "                  'requires_sequence': True}\n",
    "\n",
    "step1_esn_params = {'k_rec': uniform(10, layer2_size/2),\n",
    "                    'spectral_radius': uniform(loc=0, scale=1e-3)}\n",
    "\n",
    "step2_esn_params = {'leakage': loguniform(1e-5, 1)}\n",
    "step3_esn_params = {'bias_scaling': np.linspace(0.0, 1.0, 11)}\n",
    "step4_esn_params = {'alpha': uniform(1e-5, 1e-1)}\n",
    "\n",
    "scorer = make_scorer(accuracy_score, greater_is_better=True, needs_proba=False)\n",
    "step_kwargs = {'n_iter': 50, 'random_state': 1, 'verbose': 1, 'n_jobs': -1, 'cv': TimeSeriesSplit(), 'scoring': scorer}\n",
    "\n",
    "kwargs_step1 = {**step_kwargs}\n",
    "kwargs_step2 = {**step_kwargs}\n",
    "kwargs_step3 = {'verbose': 1, 'n_jobs': -1, 'scoring': scorer}\n",
    "kwargs_step4 = {**step_kwargs}\n",
    "\n",
    "# The searches are defined similarly to the steps of a sklearn.pipeline.Pipeline:\n",
    "searches = [('step1', RandomizedSearchCV, step1_esn_params, kwargs_step1),\n",
    "            ('step2', RandomizedSearchCV, step2_esn_params, kwargs_step2),\n",
    "            ('step3', GridSearchCV, step3_esn_params, kwargs_step3),\n",
    "            ('step4', RandomizedSearchCV, step4_esn_params, kwargs_step4)]\n",
    "\n",
    "base_esn = ESNClassifier(**initially_fixed_params)\n",
    "\n",
    "try:\n",
    "    sequential_search = load(\"joblib/mse_sequential_search.joblib\")\n",
    "except FileNotFoundError:\n",
    "    sequential_search = SequentialSearchCV(base_esn, searches=searches).fit(dataset, labels_repeat)\n",
    "    dump(sequential_search, \"joblib/mse_sequential_search.joblib\")"
   ]
  },
  {
   "cell_type": "code",
   "execution_count": 184,
   "id": "6c543266",
   "metadata": {},
   "outputs": [
    {
     "name": "stdout",
     "output_type": "stream",
     "text": [
      "Classification training report for estimator ESNClassifier(input_to_node=InputToNode(bias_scaling=0.0, hidden_layer_size=50,\n",
      "                                        input_activation='identity',\n",
      "                                        input_scaling=0.6078999788110852,\n",
      "                                        k_in=10, sparsity=0.0390625),\n",
      "              node_to_node=NodeToNode(hidden_layer_size=50, k_rec=10,\n",
      "                                      leakage=0.7072114131472235, sparsity=0.2,\n",
      "                                      spectral_radius=1.8437484700462337),\n",
      "              regressor=IncrementalRegression(alpha=6.598711072054071),\n",
      "              requires_sequence=True):\n",
      "              precision    recall  f1-score   support\n",
      "\n",
      "           0  0.0000000000 0.0000000000 0.0000000000     19074\n",
      "           1  0.2521389907 0.0757051484 0.1164469175     19074\n",
      "           2  0.0000000000 0.0000000000 0.0000000000     18895\n",
      "           3  0.2506963788 0.0047184649 0.0092625946     19074\n",
      "           4  0.2084431245 0.9557671633 0.3422458913     19533\n",
      "\n",
      "    accuracy                      0.2112179822     95650\n",
      "   macro avg  0.1422556988 0.2072381553 0.0935910807     95650\n",
      "weighted avg  0.1428395336 0.2112179822 0.0949594587     95650\n",
      "\n",
      "\n"
     ]
    },
    {
     "name": "stderr",
     "output_type": "stream",
     "text": [
      "/Users/davidzhu/miniforge3/lib/python3.8/site-packages/sklearn/metrics/_classification.py:1318: UndefinedMetricWarning: Precision and F-score are ill-defined and being set to 0.0 in labels with no predicted samples. Use `zero_division` parameter to control this behavior.\n",
      "  _warn_prf(average, modifier, msg_start, len(result))\n",
      "/Users/davidzhu/miniforge3/lib/python3.8/site-packages/sklearn/metrics/_classification.py:1318: UndefinedMetricWarning: Precision and F-score are ill-defined and being set to 0.0 in labels with no predicted samples. Use `zero_division` parameter to control this behavior.\n",
      "  _warn_prf(average, modifier, msg_start, len(result))\n",
      "/Users/davidzhu/miniforge3/lib/python3.8/site-packages/sklearn/metrics/_classification.py:1318: UndefinedMetricWarning: Precision and F-score are ill-defined and being set to 0.0 in labels with no predicted samples. Use `zero_division` parameter to control this behavior.\n",
      "  _warn_prf(average, modifier, msg_start, len(result))\n"
     ]
    },
    {
     "data": {
      "image/png": "[encoded data removed]",
      "text/plain": [
       "<Figure size 432x288 with 2 Axes>"
      ]
     },
     "metadata": {
      "needs_background": "light"
     },
     "output_type": "display_data"
    }
   ],
   "source": [
    "from sklearn.metrics import confusion_matrix, classification_report\n",
    "\n",
    "\n",
    "esn = sequential_search.best_estimator_\n",
    "\n",
    "y_pred_train = esn.predict_proba(X=dataset)\n",
    "cm = confusion_matrix(np.argmax(np.concatenate(labels_hot_repeat), axis=1), np.argmax(np.concatenate(y_pred_train), axis=1))\n",
    "cm_display = ConfusionMatrixDisplay(cm, display_labels=[0, 1, 2, 3, 4]).plot()\n",
    "print(\"Classification training report for estimator %s:\\n%s\\n\" % (esn, classification_report(np.argmax(np.concatenate(labels_hot_repeat), axis=1), np.argmax(np.concatenate(y_pred_train), axis=1), digits=10)))\n",
    "\n",
    "# y_pred_test = esn.predict(X=X_test)\n",
    "# cm = confusion_matrix(np.argmax(np.concatenate(y_test), axis=1), np.argmax(np.concatenate(y_pred_test), axis=1))\n",
    "# cm_display = ConfusionMatrixDisplay(cm, display_labels=[0, 1, 2]).plot()\n",
    "# print(\"Classification training report for estimator %s:\\n%s\\n\" % (esn, classification_report(np.argmax(np.concatenate(y_test), axis=1), np.argmax(np.concatenate(y_pred_test), axis=1), digits=10)))\n"
   ]
  },
  {
   "cell_type": "code",
   "execution_count": 158,
   "id": "7a817ec0",
   "metadata": {},
   "outputs": [
    {
     "ename": "NameError",
     "evalue": "name 'w_in' is not defined",
     "output_type": "error",
     "traceback": [
      "\u001b[0;31m---------------------------------------------------------------------------\u001b[0m",
      "\u001b[0;31mNameError\u001b[0m                                 Traceback (most recent call last)",
      "Input \u001b[0;32mIn [158]\u001b[0m, in \u001b[0;36m<module>\u001b[0;34m\u001b[0m\n\u001b[1;32m     32\u001b[0m \u001b[38;5;66;03m# The searches are defined similarly to the steps of a sklearn.pipeline.Pipeline:\u001b[39;00m\n\u001b[1;32m     33\u001b[0m searches \u001b[38;5;241m=\u001b[39m [(\u001b[38;5;124m'\u001b[39m\u001b[38;5;124mstep1\u001b[39m\u001b[38;5;124m'\u001b[39m, RandomizedSearchCV, step1_esn_params, kwargs_step1),\n\u001b[1;32m     34\u001b[0m             (\u001b[38;5;124m'\u001b[39m\u001b[38;5;124mstep2\u001b[39m\u001b[38;5;124m'\u001b[39m, RandomizedSearchCV, step2_esn_params, kwargs_step2),\n\u001b[1;32m     35\u001b[0m             (\u001b[38;5;124m'\u001b[39m\u001b[38;5;124mstep3\u001b[39m\u001b[38;5;124m'\u001b[39m, GridSearchCV, step3_esn_params, kwargs_step3),\n\u001b[1;32m     36\u001b[0m             (\u001b[38;5;124m'\u001b[39m\u001b[38;5;124mstep4\u001b[39m\u001b[38;5;124m'\u001b[39m, RandomizedSearchCV, step4_esn_params, kwargs_step4)]\n\u001b[0;32m---> 38\u001b[0m base_km_esn \u001b[38;5;241m=\u001b[39m ESNClassifier(input_to_node\u001b[38;5;241m=\u001b[39mPredefinedWeightsInputToNode(predefined_input_weights\u001b[38;5;241m=\u001b[39m\u001b[43mw_in\u001b[49m\u001b[38;5;241m.\u001b[39mT),\n\u001b[1;32m     39\u001b[0m                                     \u001b[38;5;241m*\u001b[39m\u001b[38;5;241m*\u001b[39minitially_fixed_params)\n\u001b[1;32m     41\u001b[0m \u001b[38;5;28;01mtry\u001b[39;00m:\n\u001b[1;32m     42\u001b[0m     sequential_search \u001b[38;5;241m=\u001b[39m load(\u001b[38;5;124m\"\u001b[39m\u001b[38;5;124mRICSyN2015/sequential_search_RICSyN2015_km_large_1.joblib\u001b[39m\u001b[38;5;124m\"\u001b[39m)\n",
      "\u001b[0;31mNameError\u001b[0m: name 'w_in' is not defined"
     ]
    }
   ],
   "source": [
    "# model from door example\n",
    "\n",
    "\n",
    "\n",
    "initially_fixed_params = {'hidden_layer_size': 100,\n",
    "                          'k_in': 10,\n",
    "                          'input_scaling': 0.4,\n",
    "                          'input_activation': 'identity',\n",
    "                          'bias_scaling': 0.0,\n",
    "                          'spectral_radius': 0.0,\n",
    "                          'leakage': 0.1,\n",
    "                          'k_rec': 10,\n",
    "                          'reservoir_activation': 'tanh',\n",
    "                          'bidirectional': False,\n",
    "                          'wash_out': 0,\n",
    "                          'continuation': False,\n",
    "                          'alpha': 1e-3,\n",
    "                          'random_state': 42}\n",
    "\n",
    "step1_esn_params = {'input_scaling': uniform(loc=1e-2, scale=1),\n",
    "                    'spectral_radius': uniform(loc=0, scale=2)}\n",
    "\n",
    "step2_esn_params = {'leakage': loguniform(1e-5, 1e0)}\n",
    "step3_esn_params = {'bias_scaling': np.linspace(0.0, 1.0, 11)}\n",
    "step4_esn_params = {'alpha': loguniform(1e-5, 1e1)}\n",
    "\n",
    "kwargs_step1 = {'n_iter': 200, 'random_state': 42, 'verbose': 1, 'n_jobs': -1, 'scoring': make_scorer(accuracy_score)}\n",
    "kwargs_step2 = {'n_iter': 50, 'random_state': 42, 'verbose': 1, 'n_jobs': -1, 'scoring': make_scorer(accuracy_score)}\n",
    "kwargs_step3 = {'verbose': 1, 'n_jobs': -1, 'scoring': make_scorer(accuracy_score)}\n",
    "kwargs_step4 = {'n_iter': 50, 'random_state': 42, 'verbose': 1, 'n_jobs': -1, 'scoring': make_scorer(accuracy_score)}\n",
    "\n",
    "# The searches are defined similarly to the steps of a sklearn.pipeline.Pipeline:\n",
    "searches = [('step1', RandomizedSearchCV, step1_esn_params, kwargs_step1),\n",
    "            ('step2', RandomizedSearchCV, step2_esn_params, kwargs_step2),\n",
    "            ('step3', GridSearchCV, step3_esn_params, kwargs_step3),\n",
    "            ('step4', RandomizedSearchCV, step4_esn_params, kwargs_step4)]\n",
    "\n",
    "base_km_esn = ESNClassifier(input_to_node=PredefinedWeightsInputToNode(predefined_input_weights=w_in.T),\n",
    "                                    **initially_fixed_params)\n",
    "\n",
    "try:\n",
    "    sequential_search = load(\"RICSyN2015/sequential_search_RICSyN2015_km_large_1.joblib\")\n",
    "except FileNotFoundError:\n",
    "    sequential_search = SequentialSearchCV(base_km_esn, searches=searches).fit(dataset, labels_repeat)\n",
    "    dump(sequential_search, \"RICSyN2015/sequential_search_RICSyN2015_km_large_1.joblib\")"
   ]
  },
  {
   "cell_type": "code",
   "execution_count": 95,
   "id": "e3d1a5ae",
   "metadata": {},
   "outputs": [
    {
     "data": {
      "text/plain": [
       "ESNClassifier(input_to_node=InputToNode(bias_scaling=0.0,\n",
       "                                        input_activation='identity', k_in=10,\n",
       "                                        sparsity=0.0390625),\n",
       "              node_to_node=NodeToNode(k_rec=10, sparsity=0.02),\n",
       "              regressor=IncrementalRegression(), requires_sequence=True)"
      ]
     },
     "execution_count": 95,
     "metadata": {},
     "output_type": "execute_result"
    }
   ],
   "source": [
    "base_esn.fit(dataset, labels_repeat)"
   ]
  },
  {
   "cell_type": "code",
   "execution_count": 96,
   "id": "73d0c5fe",
   "metadata": {},
   "outputs": [],
   "source": [
    "predictions = base_esn.predict(dataset)"
   ]
  },
  {
   "cell_type": "code",
   "execution_count": 97,
   "id": "9aa18d36",
   "metadata": {},
   "outputs": [],
   "source": [
    "correct = []\n",
    "for i, prediction in enumerate(predictions):  \n",
    "    \n",
    "    correct.append((prediction == labels[i]).mean())\n",
    "\n",
    "correct = np.array(correct)"
   ]
  },
  {
   "cell_type": "code",
   "execution_count": 98,
   "id": "b303899f",
   "metadata": {},
   "outputs": [
    {
     "data": {
      "text/plain": [
       "0.295484848134971"
      ]
     },
     "execution_count": 98,
     "metadata": {},
     "output_type": "execute_result"
    }
   ],
   "source": [
    "correct.mean()"
   ]
  },
  {
   "cell_type": "code",
   "execution_count": 99,
   "id": "a39b1e4d",
   "metadata": {},
   "outputs": [
    {
     "data": {
      "text/plain": [
       "array([0.59776536, 0.41899441, 0.23463687, 0.31843575, 0.16201117,\n",
       "       0.16201117, 0.29050279, 0.22346369, 0.07821229, 0.22905028,\n",
       "       0.42458101, 0.35195531, 0.34636872, 0.11731844, 0.16421442,\n",
       "       0.27374302, 0.15642458, 0.39664804, 0.27374302, 0.12849162,\n",
       "       0.22905028, 0.29050279, 0.29608939, 0.27932961, 0.23463687,\n",
       "       0.17877095, 0.18435754, 0.57541899, 0.24022346, 0.20670391,\n",
       "       0.25698324, 0.25698324, 0.22905028, 0.32960894, 0.55865922,\n",
       "       0.13407821, 0.24581006, 0.4301676 , 0.38547486, 0.12849162,\n",
       "       0.54189944, 0.2122905 , 0.24581006, 0.18994413, 0.26815642,\n",
       "       0.585878  , 0.09497207, 0.16759777, 0.33519553, 0.36312849,\n",
       "       0.22346369, 0.45251397, 0.44134078, 0.25698324, 0.56424581,\n",
       "       0.40782123, 0.42458101, 0.27932961, 0.27932961, 0.24022346,\n",
       "       0.32960894, 0.20670391, 0.09497207, 0.2122905 , 0.51396648,\n",
       "       0.17318436, 0.2849162 , 0.51955307, 0.12295749, 0.22346369,\n",
       "       0.56990679, 0.25744917, 0.22346369, 0.50837989, 0.12849162,\n",
       "       0.41899441, 0.33519553, 0.32402235, 0.22905028, 0.34078212,\n",
       "       0.48603352, 0.16759777, 0.25744917, 0.43575419, 0.46927374,\n",
       "       0.31284916, 0.22905028, 0.2849162 , 0.47486034, 0.43841545,\n",
       "       0.26256983, 0.19553073, 0.29608939, 0.25139665, 0.45810056,\n",
       "       0.45810056, 0.41340782, 0.22905028, 0.26815642, 0.11173184,\n",
       "       0.25698324, 0.23463687, 0.13407821, 0.27374302, 0.26256983,\n",
       "       0.45251397, 0.60893855, 0.13407821, 0.17318436, 0.5027933 ,\n",
       "       0.43575419, 0.32402235, 0.35195531, 0.36871508, 0.3575419 ,\n",
       "       0.15642458, 0.21787709, 0.1452514 , 0.55307263, 0.13407821,\n",
       "       0.26256983, 0.30167598, 0.11731844, 0.2849162 , 0.26256983,\n",
       "       0.33519553, 0.19553073, 0.22346369, 0.15083799, 0.08938547])"
      ]
     },
     "execution_count": 99,
     "metadata": {},
     "output_type": "execute_result"
    }
   ],
   "source": [
    "correct"
   ]
  },
  {
   "cell_type": "code",
   "execution_count": null,
   "id": "daeedafd",
   "metadata": {},
   "outputs": [],
   "source": []
  }
 ],
 "metadata": {
  "kernelspec": {
   "display_name": "echo-venv",
   "language": "python",
   "name": "echo-venv"
  },
  "language_info": {
   "codemirror_mode": {
    "name": "ipython",
    "version": 3
   },
   "file_extension": ".py",
   "mimetype": "text/x-python",
   "name": "python",
   "nbconvert_exporter": "python",
   "pygments_lexer": "ipython3",
   "version": "3.8.12"
  }
 },
 "nbformat": 4,
 "nbformat_minor": 5
}
